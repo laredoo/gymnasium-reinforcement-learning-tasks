{
 "cells": [
  {
   "cell_type": "markdown",
   "id": "48af0a1c-18bc-4f94-9ac5-9837fe9ef93c",
   "metadata": {
    "deletable": false,
    "editable": false,
    "nbgrader": {
     "cell_type": "markdown",
     "checksum": "57382da21eed99f26da007afb43591df",
     "grade": false,
     "grade_id": "cell-68d829d4416b37fe",
     "locked": true,
     "schema_version": 3,
     "solution": false,
     "task": false
    }
   },
   "source": [
    "# Lista de Exercícios 4: Gradiente de Política\n",
    "\n",
    "#### Disciplina: Aprendizado por Reforço\n",
    "#### Professor: Luiz Chaimowicz\n",
    "#### Monitores: Marcelo Lemos e Ronaldo Vieira\n",
    "\n",
    "---"
   ]
  },
  {
   "cell_type": "markdown",
   "id": "705554ff-d65c-47de-b289-c4a27cb2ef15",
   "metadata": {
    "deletable": false,
    "editable": false,
    "nbgrader": {
     "cell_type": "markdown",
     "checksum": "5118f22136ccf341ec47a47130b6b6a4",
     "grade": false,
     "grade_id": "cell-3e4786defc109449",
     "locked": true,
     "schema_version": 3,
     "solution": false,
     "task": false
    }
   },
   "source": [
    "## Instruções"
   ]
  },
  {
   "cell_type": "markdown",
   "id": "21add27c-912f-4125-979a-36118d279cd6",
   "metadata": {
    "deletable": false,
    "editable": false,
    "nbgrader": {
     "cell_type": "markdown",
     "checksum": "6a190a2246936b6057160adeae50f968",
     "grade": false,
     "grade_id": "cell-2980bcc21a4d41ff",
     "locked": true,
     "schema_version": 3,
     "solution": false,
     "task": false
    }
   },
   "source": [
    "- Leia atentamente toda a lista de exercícios e familiarize-se com o código fornecido **antes** de começar a implementação.\n",
    "- Os locais onde você deverá escrever suas soluções estão demarcados com comentários `# YOUR CODE HERE` ou `YOUR ANSWER HERE`.\n",
    "- **Não altere o código fora das áreas indicadas, nem adicione ou remova células. O nome deste arquivo também não deve ser modificado.**\n",
    "- Antes de submeter, certifique-se de que o código esteja funcionando do início ao fim sem erros.\n",
    "- Submeta apenas este notebook (*ps4.ipynb*) com as suas soluções no Moodle.\n",
    "- Prazo de entrega: 01/07/2025. **Não serão aceitas submissões fora do prazo.**\n",
    "- ***SUBMISSÕES QUE NÃO SEGUIREM ESTAS INSTRUÇÕES NÃO SERÃO AVALIADAS.***\n",
    "- Utilize a [documentação do Gymnasium](https://gymnasium.farama.org/) para auxiliar sua implementação.\n",
    "- Em caso de dúvidas entre em contato pelo fórum \"Dúvidas com relação aos exercícios e trabalho de curso\" no moodle da Disciplina.\n",
    "\n",
    "---"
   ]
  },
  {
   "cell_type": "markdown",
   "id": "0108ebb0-1cfb-470e-a44d-8c552be447c8",
   "metadata": {
    "deletable": false,
    "editable": false,
    "nbgrader": {
     "cell_type": "markdown",
     "checksum": "2448fd20b6dc6364d522632fac9392fa",
     "grade": false,
     "grade_id": "cell-c6e552d59ec75640",
     "locked": true,
     "schema_version": 3,
     "solution": false,
     "task": false
    }
   },
   "source": [
    "## Cart Pole"
   ]
  },
  {
   "cell_type": "markdown",
   "id": "7c54dac4-874c-4eb3-a987-6e73e9f2259a",
   "metadata": {
    "deletable": false,
    "editable": false,
    "nbgrader": {
     "cell_type": "markdown",
     "checksum": "2165f3b27feaff81d6958218537f7653",
     "grade": false,
     "grade_id": "cell-41b21642de0a20ca",
     "locked": true,
     "schema_version": 3,
     "solution": false,
     "task": false
    }
   },
   "source": [
    "Cart Pole é um ambiente no qual o agente precisa equilibrar um pêndulo invertido acoplado a um carrinho que se move horizontalmente. O objetivo é evitar que o pêndulo caia, controlando a posição do carrinho de maneira apropriada. O desafio está em manter o equilíbrio do sistema aplicando forças para a esquerda ou para a direita, de modo a contrabalançar a inclinação do pêndulo.\n",
    "\n",
    "![Cart Pole](https://gymnasium.farama.org/_images/cart_pole.gif)\n",
    "\n",
    "O espaço de observação é contínuo e composto por quatro variáveis: a posição e a velocidade do carrinho, o ângulo do pêndulo e a velocidade angular do pêndulo. O agente pode escolher entre duas ações discretas: aplicar uma força no carrinho para a esquerda ou para a direita. O estado inicial de cada episódio é definido de forma aleatória, com todos os valores dentro do intervalo $(−0.05, 0.05)$. O sempre sistema começa em uma configuração próxima do equilíbrio vertical, mas com pequenas variações.\n",
    "\n",
    "O episódio termina quando o ângulo do pêndulo em relação ao eixo vertical excede 12 graus, quando o carrinho se afasta mais de 2.4 unidades de distância do centro, ou quando o limite de 500 passos é atingido. A cada passo, o agente recebe uma recompensa de $1$, incentivando-o a manter o sistema estável pelo maior tempo possível. Para mais detalhes sobre o ambiente leia a [documentação do gymnasium](https://gymnasium.farama.org/environments/classic_control/cart_pole/).\n",
    "\n",
    "Nesta lista de exercícios, você irá trabalhar com o ambiente Cart Pole descrito acima. Seu objetivo será implementar o algoritmo REINFORCE para solucionar este problema."
   ]
  },
  {
   "cell_type": "markdown",
   "id": "e377e0f5-8e92-4a6d-9f27-a65833c12701",
   "metadata": {
    "deletable": false,
    "editable": false,
    "nbgrader": {
     "cell_type": "markdown",
     "checksum": "d77473267e4ac3a2878149af20e6b9cc",
     "grade": false,
     "grade_id": "cell-63a8b1b25410d025",
     "locked": true,
     "schema_version": 3,
     "solution": false,
     "task": false
    }
   },
   "source": [
    "## REINFORCE"
   ]
  },
  {
   "cell_type": "markdown",
   "id": "362c4100-4c7f-41e1-b93c-b8a7fcc46492",
   "metadata": {
    "deletable": false,
    "editable": false,
    "nbgrader": {
     "cell_type": "markdown",
     "checksum": "4feae2fe5d759124683080ef3649a0a9",
     "grade": false,
     "grade_id": "cell-4ae21223ca36855c",
     "locked": true,
     "schema_version": 3,
     "solution": false,
     "task": false
    }
   },
   "source": [
    "Nesta atividade, você implementará um agente baseado no algoritmo REINFORCE, utilizando uma **política linear com softmax**. Não é permitido o uso de bibliotecas de aprendizado profundo. Você será responsável por definir e inicializar os pesos da política, calcular o gradiente da função objetivo e realizar a atualização dos parâmetros ao longo do treinamento.\n",
    "\n",
    "Siga as instruções abaixo para implementar seu agente:\n",
    "\n",
    "1. Implemente o método `__init__` que inicializa um novo agente. Ele deve receber como parâmetros o espaço de observações, o espaço de ações, a taxa de aprendizado $\\alpha$, e o fator de desconto $\\gamma$.\n",
    "2. Implemente o método `softmax`, que recebe um vetor de preferências (logits) $z = (z_1,\\dotsc,z_K) \\in \\mathbb{R}^K$ e retorna as probabilidades de cada ação segundo a função softmax $\\sigma(z)_i = \\frac{e^{z_i}}{\\sum_{j=1}^{K} e^{z_j}}$, para $i = 1, \\dotsc, K.$\n",
    "3. Implemente o método `choose_action`, responsável por escolher uma ação a partir de um estado observado.\n",
    "4. Implemente o método `learn`, que atualiza os pesos do agente com base na experiência obtida durante a interação com o ambiente.\n",
    "5. Implemente o método `train`, que executa o loop de treinamento do algoritmo REINFORCE. O ambiente de treinamento e o número de episódios devem ser fornecidos como parâmetros de entrada. O método deve retornar uma lista com a soma das recompensas obtidas ao longo de cada episódio."
   ]
  },
  {
   "cell_type": "code",
   "execution_count": null,
   "id": "06e66eaa-d255-4766-963c-c264459d140e",
   "metadata": {
    "deletable": false,
    "editable": false,
    "nbgrader": {
     "cell_type": "code",
     "checksum": "0f3546e95aef48e1c7c841081d2a73ae",
     "grade": false,
     "grade_id": "cell-26c7f10ce3e7f26d",
     "locked": true,
     "schema_version": 3,
     "solution": false,
     "task": false
    }
   },
   "outputs": [],
   "source": [
    "import gymnasium as gym\n",
    "import numpy as np\n",
    "import matplotlib.pyplot as plt"
   ]
  },
  {
   "cell_type": "code",
   "execution_count": null,
   "id": "826e218e-38c6-4417-94e0-b726445468ff",
   "metadata": {
    "deletable": false,
    "nbgrader": {
     "cell_type": "code",
     "checksum": "0fca79b5bb6ac1c87d37a5225eff116e",
     "grade": false,
     "grade_id": "cell-f345f995d1503c52",
     "locked": false,
     "schema_version": 3,
     "solution": true,
     "task": false
    }
   },
   "outputs": [],
   "source": [
    "class ReinforceAgent:\n",
    "    def __init__(self, observation_space, action_space, alpha, gamma):\n",
    "        # YOUR CODE HERE\n",
    "        raise NotImplementedError()\n",
    "\n",
    "    def softmax(self, z):\n",
    "        # YOUR CODE HERE\n",
    "        raise NotImplementedError()\n",
    "\n",
    "    def choose_action(self, state):\n",
    "        # YOUR CODE HERE\n",
    "        raise NotImplementedError()\n",
    "\n",
    "    def learn(self, trajectories):\n",
    "        # YOUR CODE HERE\n",
    "        raise NotImplementedError()\n",
    "\n",
    "    def train(self, env, episodes):\n",
    "        # YOUR CODE HERE\n",
    "        raise NotImplementedError()"
   ]
  },
  {
   "cell_type": "code",
   "execution_count": null,
   "id": "b5969b2d-0320-4b33-bedc-e0e876d554db",
   "metadata": {
    "deletable": false,
    "editable": false,
    "nbgrader": {
     "cell_type": "code",
     "checksum": "34c0c9b1586147092af06a17fe58f533",
     "grade": true,
     "grade_id": "cell-b2d355c71bc00e2e",
     "locked": true,
     "points": 40,
     "schema_version": 3,
     "solution": false,
     "task": false
    }
   },
   "outputs": [],
   "source": [
    "# Não altere ou remova esta célula"
   ]
  },
  {
   "cell_type": "markdown",
   "id": "ffb80774-7530-463f-85f4-6538a43c3334",
   "metadata": {
    "deletable": false,
    "editable": false,
    "nbgrader": {
     "cell_type": "markdown",
     "checksum": "b2b48eaf0d68c3cc2f1d4275942d11de",
     "grade": false,
     "grade_id": "cell-fd1a5b22d29b44fe",
     "locked": true,
     "schema_version": 3,
     "solution": false,
     "task": false
    }
   },
   "source": [
    "6. Treine um novo agente no ambiente Cart Pole por 2000 episódios. Escolha parâmetros $\\alpha$ e $\\gamma$ de acordo com o desempenho do seu modelo. Armazene os retornos episódicos, obtidos no método train, na variável `reinforce_returns`."
   ]
  },
  {
   "cell_type": "code",
   "execution_count": null,
   "id": "2073f4cb-0009-4096-9064-264d68c34a54",
   "metadata": {
    "deletable": false,
    "nbgrader": {
     "cell_type": "code",
     "checksum": "d6c589b7e186815713f073536968b773",
     "grade": false,
     "grade_id": "cell-5d2f7f9b46718d13",
     "locked": false,
     "schema_version": 3,
     "solution": true,
     "task": false
    }
   },
   "outputs": [],
   "source": [
    "env = gym.make(\"CartPole-v1\")\n",
    "\n",
    "# YOUR CODE HERE\n",
    "raise NotImplementedError()\n",
    "\n",
    "env.close()"
   ]
  },
  {
   "cell_type": "code",
   "execution_count": null,
   "id": "454b9400-9c76-4dc5-841d-07bfe9b9ac29",
   "metadata": {
    "deletable": false,
    "editable": false,
    "nbgrader": {
     "cell_type": "code",
     "checksum": "0c90bb48a02aea6b315e0cb247837be0",
     "grade": true,
     "grade_id": "cell-101a110a858c6870",
     "locked": true,
     "points": 10,
     "schema_version": 3,
     "solution": false,
     "task": false
    }
   },
   "outputs": [],
   "source": [
    "# Não altere ou remova esta célula"
   ]
  },
  {
   "cell_type": "markdown",
   "id": "0e3172eb-f16c-44bb-86f8-024019e2a370",
   "metadata": {
    "deletable": false,
    "editable": false,
    "nbgrader": {
     "cell_type": "markdown",
     "checksum": "9bbf7b373aeb2ea4ac9cbd0cb7868ac2",
     "grade": false,
     "grade_id": "cell-edf43cbf400eb605",
     "locked": true,
     "schema_version": 3,
     "solution": false,
     "task": false
    }
   },
   "source": [
    "## Análise"
   ]
  },
  {
   "cell_type": "markdown",
   "id": "e0b6e139-1120-48c0-b9b9-2d35f0f8c4b4",
   "metadata": {
    "deletable": false,
    "editable": false,
    "nbgrader": {
     "cell_type": "markdown",
     "checksum": "dab25a2078c79bca20f8b78a85ebdd9f",
     "grade": false,
     "grade_id": "cell-f1205ee5ecba5a05",
     "locked": true,
     "schema_version": 3,
     "solution": false,
     "task": false
    }
   },
   "source": [
    "7. Utilize a biblioteca matplotlib para gerar um gráfico dos retornos episódicos obtidos pelo agente, armazenados na variável `reinforce_returns` no exercício anterior. Caso os dados apresentem muita variação, aplique uma média móvel para suavizar a curva e evidenciar melhor a tendência de aprendizado. Adicione um título e rótulos de eixos apropriados para facilitar a interpretação."
   ]
  },
  {
   "cell_type": "code",
   "execution_count": null,
   "id": "69aa6dac-c95f-4ec7-a3f5-de7b537decb7",
   "metadata": {
    "deletable": false,
    "nbgrader": {
     "cell_type": "code",
     "checksum": "9efdd5f430d543885a15bc2c0f2d2689",
     "grade": true,
     "grade_id": "cell-80e96d1f71ec983b",
     "locked": false,
     "points": 20,
     "schema_version": 3,
     "solution": true,
     "task": false
    }
   },
   "outputs": [],
   "source": [
    "# YOUR CODE HERE\n",
    "raise NotImplementedError()"
   ]
  },
  {
   "cell_type": "markdown",
   "id": "5a1941ca-5de9-4097-abe5-26d56648f974",
   "metadata": {
    "deletable": false,
    "editable": false,
    "nbgrader": {
     "cell_type": "markdown",
     "checksum": "8943c1f4ba93245d85518f5e3e49cbb4",
     "grade": false,
     "grade_id": "cell-df54ebbf2e7bf2d1",
     "locked": true,
     "schema_version": 3,
     "solution": false,
     "task": false
    }
   },
   "source": [
    "8. Durante o treinamento, o seu agente apresentou instabilidades, como variações bruscas na recompensa ou dificuldade em convergir? Que estratégias poderiam ser adotadas para mitigar instabilidades neste algoritmo?"
   ]
  },
  {
   "cell_type": "markdown",
   "id": "f59163a2-9859-41a7-9385-94a569cb3202",
   "metadata": {
    "deletable": false,
    "nbgrader": {
     "cell_type": "markdown",
     "checksum": "9029abd12d61654147513492c0c812a2",
     "grade": true,
     "grade_id": "cell-d55e7d83591e35c1",
     "locked": false,
     "points": 10,
     "schema_version": 3,
     "solution": true,
     "task": false
    }
   },
   "source": [
    "YOUR ANSWER HERE"
   ]
  },
  {
   "cell_type": "markdown",
   "id": "6f67251b-451f-48e4-86aa-5bd27f03ef2d",
   "metadata": {
    "deletable": false,
    "editable": false,
    "nbgrader": {
     "cell_type": "markdown",
     "checksum": "368251051d6fc3e6eee87fd91de55684",
     "grade": false,
     "grade_id": "cell-a2c7f39d88f5aa62",
     "locked": true,
     "schema_version": 3,
     "solution": false,
     "task": false
    }
   },
   "source": [
    "9. Explique qual é o papel da função softmax na definição da política. Por que, nesse contexto, não é suficiente escolher apenas a ação com maior valor?"
   ]
  },
  {
   "cell_type": "markdown",
   "id": "b3c887b6-8093-4b7d-a018-189b7a5acba7",
   "metadata": {
    "deletable": false,
    "nbgrader": {
     "cell_type": "markdown",
     "checksum": "9fbdb9e3a264069cf16ce2485e3ba21c",
     "grade": true,
     "grade_id": "cell-06e5075b1c61cce1",
     "locked": false,
     "points": 10,
     "schema_version": 3,
     "solution": true,
     "task": false
    }
   },
   "source": [
    "YOUR ANSWER HERE"
   ]
  },
  {
   "cell_type": "markdown",
   "id": "70655a02-6a40-42d6-a1dd-c6c1ce9342ff",
   "metadata": {
    "deletable": false,
    "editable": false,
    "nbgrader": {
     "cell_type": "markdown",
     "checksum": "9767691be5d9fba537b2dc6dfb2aec29",
     "grade": false,
     "grade_id": "cell-402547255227c5c9",
     "locked": true,
     "schema_version": 3,
     "solution": false,
     "task": false
    }
   },
   "source": [
    "10. Por que o algoritmo REINFORCE precisa aguardar a conclusão de todo o episódio antes de realizar atualizações nos parâmetros da política?"
   ]
  },
  {
   "cell_type": "markdown",
   "id": "289a3f2a-cd91-4f9e-8180-c6373d4b6f40",
   "metadata": {
    "deletable": false,
    "nbgrader": {
     "cell_type": "markdown",
     "checksum": "057cc498c9c663668688053c5b7d017e",
     "grade": true,
     "grade_id": "cell-f3b020e70e22421e",
     "locked": false,
     "points": 10,
     "schema_version": 3,
     "solution": true,
     "task": false
    }
   },
   "source": [
    "YOUR ANSWER HERE"
   ]
  }
 ],
 "metadata": {
  "kernelspec": {
   "display_name": "Python 3 (ipykernel)",
   "language": "python",
   "name": "python3"
  },
  "language_info": {
   "codemirror_mode": {
    "name": "ipython",
    "version": 3
   },
   "file_extension": ".py",
   "mimetype": "text/x-python",
   "name": "python",
   "nbconvert_exporter": "python",
   "pygments_lexer": "ipython3",
   "version": "3.12.0"
  }
 },
 "nbformat": 4,
 "nbformat_minor": 5
}
