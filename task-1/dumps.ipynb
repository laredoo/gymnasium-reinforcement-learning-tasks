{
 "cells": [
  {
   "cell_type": "code",
   "execution_count": 2,
   "id": "b462d0cd",
   "metadata": {},
   "outputs": [],
   "source": [
    "import sys\n",
    "import numpy as np\n",
    "import gymnasium as gym"
   ]
  },
  {
   "cell_type": "code",
   "execution_count": 8,
   "id": "d4404530",
   "metadata": {},
   "outputs": [
    {
     "name": "stdout",
     "output_type": "stream",
     "text": [
      "[(0.3333333333333333, 0, 0.0, False), (0.3333333333333333, 4, 0.0, False), (0.3333333333333333, 1, 0.0, False)]\n"
     ]
    }
   ],
   "source": [
    "env = gym.make(\"FrozenLake-v1\", is_slippery=True)\n",
    "state = 0  # Starting state\n",
    "action = 1  # Action: move down\n",
    "print(env.unwrapped.P[state][action])"
   ]
  },
  {
   "cell_type": "code",
   "execution_count": 4,
   "id": "fb839061",
   "metadata": {},
   "outputs": [
    {
     "data": {
      "text/plain": [
       "Discrete(16)"
      ]
     },
     "execution_count": 4,
     "metadata": {},
     "output_type": "execute_result"
    }
   ],
   "source": [
    "observation_space = gym.spaces.Discrete(16)\n",
    "\n",
    "observation_space"
   ]
  },
  {
   "cell_type": "code",
   "execution_count": 39,
   "id": "f94bacaf",
   "metadata": {},
   "outputs": [],
   "source": [
    "def _possible_transitions(intended_action):\n",
    "    # e.g. action == 0, 80% 0, 10% 1, 10% 3\n",
    "    # e.g. action == 1, 80% 1, 10% 0, 10% 2\n",
    "    # e.g. action == 2, 80% 2, 10% 1, 10% 3\n",
    "    # e.g. action == 3, 80% 3, 10% 0, 10% 2\n",
    "    if intended_action in [0, 2]:\n",
    "        perpendicular_action = [1, 3]\n",
    "    else:\n",
    "        perpendicular_action = [0, 2]\n",
    "\n",
    "    actions = [\n",
    "        intended_action,\n",
    "        *perpendicular_action\n",
    "    ]\n",
    "\n",
    "    probs = [0.8, 0.1, 0.1]\n",
    "\n",
    "    return actions, probs\n",
    "\n",
    "def _move(action):\n",
    "    if action == 0:  # left\n",
    "        return (np.clip(4 - 1, a_min=0, a_max=15))\n",
    "    elif action == 1:  # down\n",
    "        return (np.clip(4 + 4, a_min=0, a_max=15))\n",
    "    elif action == 2:  # right\n",
    "        return (np.clip(4 + 1, a_min=0, a_max=15))\n",
    "    elif action == 3:  # up\n",
    "        return (np.clip(4 - 4, a_min=0, a_max=15))\n"
   ]
  },
  {
   "cell_type": "code",
   "execution_count": 47,
   "id": "ec75c919",
   "metadata": {},
   "outputs": [
    {
     "name": "stdout",
     "output_type": "stream",
     "text": [
      "5\n"
     ]
    }
   ],
   "source": [
    "action = 1  # Action: move down\n",
    "\n",
    "actions, probs = _possible_transitions(action)\n",
    "\n",
    "actual_action = np.random.choice(actions, p=probs)\n",
    "\n",
    "new_state = _move(actual_action)\n",
    "\n",
    "print(new_state)"
   ]
  },
  {
   "cell_type": "code",
   "execution_count": 48,
   "id": "554f8827",
   "metadata": {},
   "outputs": [],
   "source": [
    "description = np.asarray([\"SFFF\", \"FHFH\", \"FFFH\", \"HFFG\"], dtype=\"c\")"
   ]
  },
  {
   "cell_type": "code",
   "execution_count": 60,
   "id": "c721cd7d",
   "metadata": {},
   "outputs": [
    {
     "data": {
      "text/plain": [
       "np.bytes_(b'F')"
      ]
     },
     "execution_count": 60,
     "metadata": {},
     "output_type": "execute_result"
    }
   ],
   "source": [
    "description[3][1]"
   ]
  },
  {
   "cell_type": "code",
   "execution_count": 67,
   "id": "9db8f352",
   "metadata": {},
   "outputs": [
    {
     "data": {
      "text/plain": [
       "2"
      ]
     },
     "execution_count": 67,
     "metadata": {},
     "output_type": "execute_result"
    }
   ],
   "source": [
    "10 // 4"
   ]
  },
  {
   "cell_type": "code",
   "execution_count": null,
   "id": "cc9f323b",
   "metadata": {},
   "outputs": [],
   "source": [
    "# 0 1 2 3 \n",
    "# 4 5 6 7\n",
    "# 8 9 10 11\n",
    "# 12 13 14 15"
   ]
  },
  {
   "cell_type": "code",
   "execution_count": null,
   "id": "d71686f8",
   "metadata": {},
   "outputs": [
    {
     "data": {
      "text/plain": [
       "np.int64(1)"
      ]
     },
     "execution_count": 17,
     "metadata": {},
     "output_type": "execute_result"
    }
   ],
   "source": [
    "_agent_location = np.array([1,0], dtype=np.int32)\n",
    "\n",
    "_agent_location.sum()"
   ]
  },
  {
   "cell_type": "markdown",
   "id": "49751fa5",
   "metadata": {},
   "source": [
    "`env.observation_space.n` returns S"
   ]
  },
  {
   "cell_type": "code",
   "execution_count": 19,
   "id": "be8b3d41",
   "metadata": {},
   "outputs": [
    {
     "name": "stdout",
     "output_type": "stream",
     "text": [
      "0\n",
      "1\n",
      "2\n",
      "3\n",
      "4\n",
      "5\n",
      "6\n",
      "7\n",
      "8\n",
      "9\n",
      "10\n",
      "11\n",
      "12\n",
      "13\n",
      "14\n",
      "15\n"
     ]
    }
   ],
   "source": [
    "for state in range(env.observation_space.n):\n",
    "    print(state)"
   ]
  },
  {
   "cell_type": "code",
   "execution_count": 22,
   "id": "6035ea48",
   "metadata": {},
   "outputs": [
    {
     "name": "stdout",
     "output_type": "stream",
     "text": [
      "0\n",
      "1\n",
      "2\n",
      "3\n"
     ]
    }
   ],
   "source": [
    "for action in range(env.action_space.n):\n",
    "    print(action)"
   ]
  },
  {
   "cell_type": "code",
   "execution_count": 26,
   "id": "72db2cac",
   "metadata": {},
   "outputs": [
    {
     "data": {
      "text/plain": [
       "np.int64(0)"
      ]
     },
     "execution_count": 26,
     "metadata": {},
     "output_type": "execute_result"
    }
   ],
   "source": [
    "compute_expected_value = [3.4, 0.2, 0.1, 2.3]\n",
    "\n",
    "actions = [0, 1, 2, 3]\n",
    "\n",
    "new_policy = np.argmax(\n",
    "    compute_expected_value[action]\n",
    "    for action in actions\n",
    ")\n",
    "\n",
    "new_policy"
   ]
  }
 ],
 "metadata": {
  "kernelspec": {
   "display_name": ".venv",
   "language": "python",
   "name": "python3"
  },
  "language_info": {
   "codemirror_mode": {
    "name": "ipython",
    "version": 3
   },
   "file_extension": ".py",
   "mimetype": "text/x-python",
   "name": "python",
   "nbconvert_exporter": "python",
   "pygments_lexer": "ipython3",
   "version": "3.12.10"
  }
 },
 "nbformat": 4,
 "nbformat_minor": 5
}
